{
 "cells": [
  {
   "cell_type": "code",
   "execution_count": 1,
   "metadata": {},
   "outputs": [
    {
     "name": "stderr",
     "output_type": "stream",
     "text": [
      "Using TensorFlow backend.\n"
     ]
    }
   ],
   "source": [
    "import os\n",
    "import keras\n",
    "import numpy as np\n",
    "import matplotlib.pyplot as plt\n",
    "from keras.models import Sequential, Model\n",
    "from keras.layers import Activation, Dropout, Flatten, Dense,GlobalAveragePooling2D\n",
    "from keras.preprocessing.image import ImageDataGenerator\n",
    "from keras.layers import Conv2D, MaxPooling2D, ZeroPadding2D, Convolution2D\n",
    "from keras import optimizers\n",
    "from keras import metrics\n",
    "from keras.callbacks import EarlyStopping, History, ModelCheckpoint\n",
    "from keras.layers.core import Flatten, Dense, Dropout, Reshape, Lambda\n",
    "from keras.layers.normalization import BatchNormalization\n",
    "import matplotlib.pyplot as plt\n",
    "import keras.backend as K\n",
    "from IPython.display import Image\n",
    "from IPython.display import display\n",
    "from keras.utils import plot_model\n",
    "from keras.regularizers import l2\n",
    "from keras.constraints import maxnorm\n",
    "from keras.applications.inception_v3 import InceptionV3, preprocess_input"
   ]
  },
  {
   "cell_type": "markdown",
   "metadata": {},
   "source": [
    "#### Helper functions"
   ]
  },
  {
   "cell_type": "code",
   "execution_count": 2,
   "metadata": {},
   "outputs": [],
   "source": [
    "os.environ['KMP_DUPLICATE_LIB_OK']='TRUE'\n",
    "os.environ['TF_CPP_MIN_LOG_LEVEL'] = '2'"
   ]
  },
  {
   "cell_type": "code",
   "execution_count": 3,
   "metadata": {},
   "outputs": [],
   "source": [
    "def get_num_files(path):\n",
    "    \"\"\"\n",
    "    count number of files in this directory and all subfolders\n",
    "    :param path:\n",
    "    :return: integer total number of files in path\n",
    "    \"\"\"\n",
    "    if not os.path.exists(path):\n",
    "        return 0\n",
    "    return sum([len(files) for r, d, files in os.walk(path)])"
   ]
  },
  {
   "cell_type": "code",
   "execution_count": 4,
   "metadata": {},
   "outputs": [],
   "source": [
    "def get_num_subfolders(path):\n",
    "    \"\"\"\n",
    "    get number of subfolders inside this path\n",
    "    :param path:\n",
    "    :return: integer number of subfolders inside this path\n",
    "    \"\"\"\n",
    "    if not os.path.exists(path):\n",
    "        return 0\n",
    "    return sum([len(d) for r, d, files in os.walk(path)])"
   ]
  },
  {
   "cell_type": "code",
   "execution_count": 5,
   "metadata": {},
   "outputs": [],
   "source": [
    "def create_img_generator():\n",
    "    \"\"\"\n",
    "    define image generator that will be variations\n",
    "    :return:\n",
    "    \"\"\"\n",
    "    return ImageDataGenerator(\n",
    "        preprocessing_function=preprocess_input,\n",
    "        rescale=1./255,\n",
    "        validation_split=0.2\n",
    "    )\n"
   ]
  },
  {
   "cell_type": "code",
   "execution_count": 6,
   "metadata": {},
   "outputs": [],
   "source": [
    "def get_sample_spectrogram():\n",
    "    \"\"\"\n",
    "    :return: list of spectrogram png files to display them\n",
    "    \"\"\"\n",
    "    Images = [\n",
    "        'data/train/normal/cl-normal-e00081.wav.jpg',\n",
    "        'data/train/abnormal/cl-abnormal-a0223.wav.jpg'\n",
    "    ]\n",
    "\n",
    "    for imageName in Images:\n",
    "        display(Image(filename=imageName))"
   ]
  },
  {
   "cell_type": "code",
   "execution_count": 7,
   "metadata": {},
   "outputs": [],
   "source": [
    "def results(history):\n",
    "    \"\"\"\n",
    "\n",
    "    :param history:\n",
    "    :return: figure for accuracy and loss\n",
    "    \"\"\"\n",
    "    # Accuracy\n",
    "    plt.figure(figsize=(15, 5))\n",
    "    plt.subplot(1, 2, 1)\n",
    "    plt.plot(history.history['acc'])\n",
    "    plt.plot(history.history['val_acc'])\n",
    "    plt.title('model accuracy')\n",
    "    plt.ylabel('accuracy')\n",
    "    plt.xlabel('epoch')\n",
    "    plt.legend(['train', 'valid'], loc='upper left')\n",
    "\n",
    "    # Loss\n",
    "    plt.subplot(1, 2, 2)\n",
    "    plt.plot(history.history['loss'])\n",
    "    plt.plot(history.history['val_loss'])\n",
    "    plt.title('model loss')\n",
    "    plt.ylabel('loss')\n",
    "    plt.xlabel('epoch')\n",
    "    plt.legend(['train', 'valid'], loc='upper left')\n",
    "    plt.show()\n",
    "\n"
   ]
  },
  {
   "cell_type": "code",
   "execution_count": 8,
   "metadata": {},
   "outputs": [],
   "source": [
    "# Main code\n",
    "Image_width, Image_height = 150, 150\n",
    "Training_Epochs = 100\n",
    "Batch_Size = 64\n",
    "Number_FC_Neurons = 1024\n",
    "nb_filter=90\n",
    "nb_classes=2\n",
    "hidden_dims=256\n",
    "train_dir = 'data/train'"
   ]
  },
  {
   "cell_type": "code",
   "execution_count": 9,
   "metadata": {},
   "outputs": [],
   "source": [
    "train_image_gen = create_img_generator()\n",
    "test_image_gen  = create_img_generator() "
   ]
  },
  {
   "cell_type": "code",
   "execution_count": 10,
   "metadata": {},
   "outputs": [
    {
     "name": "stdout",
     "output_type": "stream",
     "text": [
      "Found 2592 images belonging to 2 classes.\n"
     ]
    }
   ],
   "source": [
    "train_generator = train_image_gen.flow_from_directory(\n",
    "    train_dir,\n",
    "    target_size=(Image_width, Image_height),\n",
    "    batch_size=Batch_Size,\n",
    "    seed=42,\n",
    "    subset='training',\n",
    "    save_to_dir='data/aug_training'\n",
    ")"
   ]
  },
  {
   "cell_type": "code",
   "execution_count": 11,
   "metadata": {},
   "outputs": [
    {
     "name": "stdout",
     "output_type": "stream",
     "text": [
      "Found 648 images belonging to 2 classes.\n"
     ]
    }
   ],
   "source": [
    "validation_generator = test_image_gen.flow_from_directory(\n",
    "    train_dir,\n",
    "    target_size=(Image_width, Image_height),\n",
    "    batch_size=Batch_Size,\n",
    "    seed=42,\n",
    "    subset='validation'\n",
    ")"
   ]
  },
  {
   "cell_type": "code",
   "execution_count": 98,
   "metadata": {},
   "outputs": [
    {
     "name": "stdout",
     "output_type": "stream",
     "text": [
      "_________________________________________________________________\n",
      "Layer (type)                 Output Shape              Param #   \n",
      "=================================================================\n",
      "conv2d_31 (Conv2D)           (None, 148, 148, 32)      896       \n",
      "_________________________________________________________________\n",
      "max_pooling2d_31 (MaxPooling (None, 74, 74, 32)        0         \n",
      "_________________________________________________________________\n",
      "batch_normalization_31 (Batc (None, 74, 74, 32)        128       \n",
      "_________________________________________________________________\n",
      "conv2d_32 (Conv2D)           (None, 72, 72, 64)        18496     \n",
      "_________________________________________________________________\n",
      "max_pooling2d_32 (MaxPooling (None, 36, 36, 64)        0         \n",
      "_________________________________________________________________\n",
      "batch_normalization_32 (Batc (None, 36, 36, 64)        256       \n",
      "_________________________________________________________________\n",
      "conv2d_33 (Conv2D)           (None, 34, 34, 64)        36928     \n",
      "_________________________________________________________________\n",
      "max_pooling2d_33 (MaxPooling (None, 17, 17, 64)        0         \n",
      "_________________________________________________________________\n",
      "batch_normalization_33 (Batc (None, 17, 17, 64)        256       \n",
      "_________________________________________________________________\n",
      "conv2d_34 (Conv2D)           (None, 15, 15, 128)       73856     \n",
      "_________________________________________________________________\n",
      "max_pooling2d_34 (MaxPooling (None, 7, 7, 128)         0         \n",
      "_________________________________________________________________\n",
      "batch_normalization_34 (Batc (None, 7, 7, 128)         512       \n",
      "_________________________________________________________________\n",
      "conv2d_35 (Conv2D)           (None, 5, 5, 256)         295168    \n",
      "_________________________________________________________________\n",
      "max_pooling2d_35 (MaxPooling (None, 2, 2, 256)         0         \n",
      "_________________________________________________________________\n",
      "batch_normalization_35 (Batc (None, 2, 2, 256)         1024      \n",
      "_________________________________________________________________\n",
      "flatten_14 (Flatten)         (None, 1024)              0         \n",
      "_________________________________________________________________\n",
      "dense_25 (Dense)             (None, 128)               131200    \n",
      "_________________________________________________________________\n",
      "dropout_14 (Dropout)         (None, 128)               0         \n",
      "_________________________________________________________________\n",
      "dense_26 (Dense)             (None, 64)                8256      \n",
      "_________________________________________________________________\n",
      "dropout_15 (Dropout)         (None, 64)                0         \n",
      "_________________________________________________________________\n",
      "dense_27 (Dense)             (None, 2)                 130       \n",
      "=================================================================\n",
      "Total params: 567,106\n",
      "Trainable params: 566,018\n",
      "Non-trainable params: 1,088\n",
      "_________________________________________________________________\n"
     ]
    }
   ],
   "source": [
    "model = Sequential()\n",
    "model.add(Conv2D(32,kernel_size=(3,3),\n",
    "                 activation=\"relu\",\n",
    "                 input_shape=(Image_width,Image_height,3))\n",
    "         )\n",
    "\n",
    "model.add(MaxPooling2D(pool_size=(2,2)))\n",
    "model.add(BatchNormalization())\n",
    "\n",
    "model.add(Conv2D(64, (3,3), activation='elu'))\n",
    "model.add(MaxPooling2D(pool_size=(2,2)))\n",
    "model.add(BatchNormalization())\n",
    "\n",
    "\n",
    "model.add(Conv2D(64, (3,3), activation='elu'))\n",
    "model.add(MaxPooling2D(pool_size=(2,2)))\n",
    "model.add(BatchNormalization())\n",
    "\n",
    "model.add(Conv2D(128, (3,3), activation='elu'))\n",
    "model.add(MaxPooling2D(pool_size=(2,2)))\n",
    "model.add(BatchNormalization())\n",
    "\n",
    "\n",
    "\n",
    "model.add(Conv2D(256, (3,3), activation='elu'))\n",
    "model.add(MaxPooling2D(pool_size=(2,2)))\n",
    "model.add(BatchNormalization())\n",
    "model.add(Flatten())\n",
    "\n",
    "model.add(Dense(128, activation='elu'))\n",
    "model.add(Dropout(0.5))\n",
    "\n",
    "model.add(Dense(64, activation='elu'))\n",
    "model.add(Dropout(0.5))\n",
    "model.add(Dense(2, activation=\"softmax\"))\n",
    "model.compile(loss='binary_crossentropy', optimizer='adam', metrics=['accuracy'])\n",
    "# Each time the loss will drop it will save weights file\n",
    "weights = 'cnn-weights.json'\n",
    "checkpointer = ModelCheckpoint(filepath=weights, verbose=1, save_best_only=True)\n",
    "early_stopping = EarlyStopping(monitor='val_acc', patience=5, mode='auto')\n",
    "my_callbacks = [checkpointer,early_stopping]\n",
    "model.summary()\n"
   ]
  },
  {
   "cell_type": "code",
   "execution_count": 99,
   "metadata": {},
   "outputs": [
    {
     "name": "stdout",
     "output_type": "stream",
     "text": [
      "Epoch 1/100\n",
      "40/40 [==============================] - 89s 2s/step - loss: 1.0440 - acc: 0.7047 - val_loss: 0.8269 - val_acc: 0.7953\n",
      "\n",
      "Epoch 00001: val_loss improved from inf to 0.82694, saving model to cnn-weights.json\n",
      "Epoch 2/100\n",
      "40/40 [==============================] - 88s 2s/step - loss: 0.8580 - acc: 0.7293 - val_loss: 0.6722 - val_acc: 0.7877\n",
      "\n",
      "Epoch 00002: val_loss improved from 0.82694 to 0.67215, saving model to cnn-weights.json\n",
      "Epoch 3/100\n",
      "40/40 [==============================] - 89s 2s/step - loss: 0.7803 - acc: 0.7157 - val_loss: 0.7414 - val_acc: 0.7979\n",
      "\n",
      "Epoch 00003: val_loss did not improve from 0.67215\n",
      "Epoch 4/100\n",
      "40/40 [==============================] - 92s 2s/step - loss: 0.6900 - acc: 0.7438 - val_loss: 0.6608 - val_acc: 0.7997\n",
      "\n",
      "Epoch 00004: val_loss improved from 0.67215 to 0.66084, saving model to cnn-weights.json\n",
      "Epoch 5/100\n",
      "40/40 [==============================] - 95s 2s/step - loss: 0.6378 - acc: 0.7402 - val_loss: 0.6044 - val_acc: 0.7911\n",
      "\n",
      "Epoch 00005: val_loss improved from 0.66084 to 0.60440, saving model to cnn-weights.json\n",
      "Epoch 6/100\n",
      "40/40 [==============================] - 95s 2s/step - loss: 0.6064 - acc: 0.7652 - val_loss: 0.5574 - val_acc: 0.7637\n",
      "\n",
      "Epoch 00006: val_loss improved from 0.60440 to 0.55738, saving model to cnn-weights.json\n",
      "Epoch 7/100\n",
      "40/40 [==============================] - 88s 2s/step - loss: 0.6407 - acc: 0.7481 - val_loss: 0.5842 - val_acc: 0.8031\n",
      "\n",
      "Epoch 00007: val_loss did not improve from 0.55738\n",
      "Epoch 8/100\n",
      "40/40 [==============================] - 88s 2s/step - loss: 0.5940 - acc: 0.7578 - val_loss: 0.6035 - val_acc: 0.7894\n",
      "\n",
      "Epoch 00008: val_loss did not improve from 0.55738\n",
      "Epoch 9/100\n",
      "40/40 [==============================] - 84s 2s/step - loss: 0.5801 - acc: 0.7652 - val_loss: 0.6705 - val_acc: 0.7723\n",
      "\n",
      "Epoch 00009: val_loss did not improve from 0.55738\n",
      "Epoch 10/100\n",
      "40/40 [==============================] - 85s 2s/step - loss: 0.5155 - acc: 0.7594 - val_loss: 0.6782 - val_acc: 0.8031\n",
      "\n",
      "Epoch 00010: val_loss did not improve from 0.55738\n",
      "Epoch 11/100\n",
      "40/40 [==============================] - 84s 2s/step - loss: 0.5064 - acc: 0.7723 - val_loss: 0.6796 - val_acc: 0.7774\n",
      "\n",
      "Epoch 00011: val_loss did not improve from 0.55738\n",
      "Epoch 12/100\n",
      "40/40 [==============================] - 86s 2s/step - loss: 0.4708 - acc: 0.7867 - val_loss: 0.7473 - val_acc: 0.7906\n",
      "\n",
      "Epoch 00012: val_loss did not improve from 0.55738\n"
     ]
    }
   ],
   "source": [
    "hist = model.fit_generator(\n",
    "    train_generator,\n",
    "    epochs=Training_Epochs,\n",
    "    verbose=1,\n",
    "    steps_per_epoch=2592 // Batch_Size,\n",
    "    validation_data=validation_generator,\n",
    "    validation_steps= 648 // Batch_Size,\n",
    "    class_weight='auto',\n",
    "    shuffle=True,\n",
    "    callbacks=my_callbacks,\n",
    "\n",
    ")"
   ]
  },
  {
   "cell_type": "code",
   "execution_count": 100,
   "metadata": {},
   "outputs": [
    {
     "data": {
      "text/plain": [
       "[0.7480889102525918, 0.7885883214734198]"
      ]
     },
     "execution_count": 100,
     "metadata": {},
     "output_type": "execute_result"
    }
   ],
   "source": [
    "model.evaluate_generator(validation_generator, 648)"
   ]
  },
  {
   "cell_type": "code",
   "execution_count": 95,
   "metadata": {},
   "outputs": [
    {
     "data": {
      "image/png": "[encoded data removed]",
      "text/plain": [
       "<Figure size 1080x360 with 2 Axes>"
      ]
     },
     "metadata": {
      "needs_background": "light"
     },
     "output_type": "display_data"
    }
   ],
   "source": [
    "results(hist)"
   ]
  },
  {
   "cell_type": "markdown",
   "metadata": {},
   "source": [
    "### Another CNN"
   ]
  },
  {
   "cell_type": "code",
   "execution_count": 13,
   "metadata": {},
   "outputs": [
    {
     "name": "stderr",
     "output_type": "stream",
     "text": [
      "/anaconda3/envs/py36/lib/python3.6/site-packages/ipykernel_launcher.py:11: UserWarning: Update your `Conv2D` call to the Keras 2 API: `Conv2D(input_shape=(150, 150,..., kernel_size=(3, 57), filters=90, padding=\"valid\", kernel_initializer=\"orthogonal\", kernel_regularizer=<keras.reg..., kernel_constraint=<keras.con...)`\n",
      "  # This is added back by InteractiveShellApp.init_path()\n",
      "/anaconda3/envs/py36/lib/python3.6/site-packages/ipykernel_launcher.py:26: UserWarning: Update your `Conv2D` call to the Keras 2 API: `Conv2D(90, (1, 3), kernel_initializer=\"orthogonal\", kernel_regularizer=<keras.reg..., kernel_constraint=<keras.con...)`\n",
      "/anaconda3/envs/py36/lib/python3.6/site-packages/ipykernel_launcher.py:43: UserWarning: Update your `Dense` call to the Keras 2 API: `Dense(256, kernel_initializer=\"orthogonal\", kernel_regularizer=<keras.reg..., kernel_constraint=<keras.con...)`\n"
     ]
    },
    {
     "name": "stdout",
     "output_type": "stream",
     "text": [
      "_________________________________________________________________\n",
      "Layer (type)                 Output Shape              Param #   \n",
      "=================================================================\n",
      "conv2d_1 (Conv2D)            (None, 148, 94, 90)       46260     \n",
      "_________________________________________________________________\n",
      "activation_1 (Activation)    (None, 148, 94, 90)       0         \n",
      "_________________________________________________________________\n",
      "dropout_1 (Dropout)          (None, 148, 94, 90)       0         \n",
      "_________________________________________________________________\n",
      "max_pooling2d_1 (MaxPooling2 (None, 146, 31, 90)       0         \n",
      "_________________________________________________________________\n",
      "conv2d_2 (Conv2D)            (None, 146, 29, 90)       24390     \n",
      "_________________________________________________________________\n",
      "activation_2 (Activation)    (None, 146, 29, 90)       0         \n",
      "_________________________________________________________________\n",
      "dropout_2 (Dropout)          (None, 146, 29, 90)       0         \n",
      "_________________________________________________________________\n",
      "max_pooling2d_2 (MaxPooling2 (None, 146, 9, 90)        0         \n",
      "_________________________________________________________________\n",
      "flatten_1 (Flatten)          (None, 118260)            0         \n",
      "_________________________________________________________________\n",
      "dense_1 (Dense)              (None, 256)               30274816  \n",
      "_________________________________________________________________\n",
      "activation_3 (Activation)    (None, 256)               0         \n",
      "_________________________________________________________________\n",
      "dropout_3 (Dropout)          (None, 256)               0         \n",
      "_________________________________________________________________\n",
      "dense_2 (Dense)              (None, 256)               65792     \n",
      "_________________________________________________________________\n",
      "activation_4 (Activation)    (None, 256)               0         \n",
      "_________________________________________________________________\n",
      "dropout_4 (Dropout)          (None, 256)               0         \n",
      "_________________________________________________________________\n",
      "dense_3 (Dense)              (None, 2)                 514       \n",
      "_________________________________________________________________\n",
      "activation_5 (Activation)    (None, 2)                 0         \n",
      "=================================================================\n",
      "Total params: 30,411,772\n",
      "Trainable params: 30,411,772\n",
      "Non-trainable params: 0\n",
      "_________________________________________________________________\n"
     ]
    },
    {
     "name": "stderr",
     "output_type": "stream",
     "text": [
      "/anaconda3/envs/py36/lib/python3.6/site-packages/ipykernel_launcher.py:50: UserWarning: Update your `Dense` call to the Keras 2 API: `Dense(256, kernel_initializer=\"orthogonal\", kernel_regularizer=<keras.reg..., kernel_constraint=<keras.con...)`\n"
     ]
    }
   ],
   "source": [
    "model = Sequential()\n",
    "# We start off with using Convolution2D for a frame\n",
    "    # The filter is 3x57\n",
    "model.add(Convolution2D(nb_filter=nb_filter,\n",
    "                            nb_row=3,\n",
    "                            nb_col=57,\n",
    "                            init='orthogonal',\n",
    "                            border_mode='valid',\n",
    "                            W_regularizer=l2(0.0001),\n",
    "                            W_constraint = maxnorm(2),\n",
    "                            input_shape=(Image_width, Image_height, 3)))\n",
    "model.add(Activation('relu'))\n",
    "    \n",
    "    # dropout to reduce overfitting:\n",
    "model.add(Dropout(0.25))\n",
    "    \n",
    "    # we use standard max pooling (halving the output of the previous layer):\n",
    "model.add(MaxPooling2D(pool_size=(3, 4), strides=(1, 3)))\n",
    "    \n",
    "    # the second convolution layer is 1x3\n",
    "model.add(Convolution2D(nb_filter, \n",
    "                            nb_row=1,\n",
    "                            nb_col=3,\n",
    "                            init='orthogonal', \n",
    "                            W_regularizer=l2(0.0001), \n",
    "                            W_constraint=maxnorm(2)))\n",
    "\n",
    "model.add(Activation('relu'))\n",
    "model.add(Dropout(0.25))\n",
    "    \n",
    "    # we use max pooling again:\n",
    "model.add(MaxPooling2D(pool_size=(1, 3), strides=(1, 3)))\n",
    "    \n",
    "    # We flatten the output of the conv layer,\n",
    "    # so that we can add a vanilla dense layer:\n",
    "model.add(Flatten())\n",
    "\n",
    "    # we add two hidden layers:\n",
    "    # increasing number of hidden layers may increase the accuracy, current number is designed for the competition \n",
    "model.add(Dense(hidden_dims, \n",
    "                    init='orthogonal', \n",
    "                    W_regularizer=l2(0.0001), \n",
    "                    W_constraint = maxnorm(2)))\n",
    "model.add(Activation('relu'))\n",
    "model.add(Dropout(0.25))\n",
    "\n",
    "model.add(Dense(hidden_dims, \n",
    "                    init='orthogonal', \n",
    "                    W_regularizer=l2(0.0001), \n",
    "                    W_constraint = maxnorm(2)))\n",
    "model.add(Activation('relu'))\n",
    "model.add(Dropout(0.25))\n",
    "    \n",
    "# We project onto a binary output layer to determine the category (Currently: normal/abnormal, but you can try train on the exact abnormality also)\n",
    "model.add(Dense(nb_classes))\n",
    "model.add(Activation('softmax'))\n",
    "model.compile(loss='binary_crossentropy', optimizer='adam', metrics=['accuracy'])\n",
    "model.summary()"
   ]
  },
  {
   "cell_type": "code",
   "execution_count": 14,
   "metadata": {},
   "outputs": [],
   "source": [
    "weights = 'another-cnn-weights.json'\n",
    "checkpointer = ModelCheckpoint(filepath=weights, verbose=1, save_best_only=True)"
   ]
  },
  {
   "cell_type": "code",
   "execution_count": null,
   "metadata": {},
   "outputs": [
    {
     "name": "stdout",
     "output_type": "stream",
     "text": [
      "Epoch 1/100\n",
      "40/40 [==============================] - 232s 6s/step - loss: 3.5313 - acc: 0.7844 - val_loss: 3.2853 - val_acc: 0.8000\n",
      "\n",
      "Epoch 00001: val_loss improved from inf to 3.28534, saving model to another-cnn-weights.json\n",
      "Epoch 2/100\n",
      "40/40 [==============================] - 217s 5s/step - loss: 3.4394 - acc: 0.7902 - val_loss: 3.2589 - val_acc: 0.8014\n",
      "\n",
      "Epoch 00002: val_loss improved from 3.28534 to 3.25894, saving model to another-cnn-weights.json\n",
      "Epoch 3/100\n",
      "40/40 [==============================] - 219s 5s/step - loss: 3.3048 - acc: 0.7984 - val_loss: 3.3937 - val_acc: 0.7928\n",
      "\n",
      "Epoch 00003: val_loss did not improve from 3.25894\n",
      "Epoch 4/100\n",
      "40/40 [==============================] - 215s 5s/step - loss: 3.3964 - acc: 0.7926 - val_loss: 3.4197 - val_acc: 0.7911\n",
      "\n",
      "Epoch 00004: val_loss did not improve from 3.25894\n",
      "Epoch 5/100\n",
      "40/40 [==============================] - 214s 5s/step - loss: 3.3450 - acc: 0.7957 - val_loss: 3.0893 - val_acc: 0.8116\n",
      "\n",
      "Epoch 00005: val_loss improved from 3.25894 to 3.08932, saving model to another-cnn-weights.json\n",
      "Epoch 6/100\n",
      "40/40 [==============================] - 209s 5s/step - loss: 3.4133 - acc: 0.7914 - val_loss: 3.9394 - val_acc: 0.7586\n",
      "\n",
      "Epoch 00006: val_loss did not improve from 3.08932\n",
      "Epoch 7/100\n",
      "40/40 [==============================] - 210s 5s/step - loss: 3.4122 - acc: 0.7914 - val_loss: 3.0329 - val_acc: 0.8151\n",
      "\n",
      "Epoch 00007: val_loss improved from 3.08932 to 3.03288, saving model to another-cnn-weights.json\n",
      "Epoch 8/100\n",
      "40/40 [==============================] - 209s 5s/step - loss: 3.2801 - acc: 0.7996 - val_loss: 3.3890 - val_acc: 0.7928\n",
      "\n",
      "Epoch 00008: val_loss did not improve from 3.03288\n",
      "Epoch 9/100\n",
      "40/40 [==============================] - 211s 5s/step - loss: 3.3482 - acc: 0.7953 - val_loss: 3.4982 - val_acc: 0.7860\n",
      "\n",
      "Epoch 00009: val_loss did not improve from 3.03288\n",
      "Epoch 10/100\n",
      "40/40 [==============================] - 223s 6s/step - loss: 3.4105 - acc: 0.7914 - val_loss: 3.2779 - val_acc: 0.7997\n",
      "\n",
      "Epoch 00010: val_loss did not improve from 3.03288\n",
      "Epoch 11/100\n",
      "40/40 [==============================] - 238s 6s/step - loss: 3.2785 - acc: 0.7996 - val_loss: 3.3871 - val_acc: 0.7928\n",
      "\n",
      "Epoch 00011: val_loss did not improve from 3.03288\n",
      "Epoch 12/100\n",
      "40/40 [==============================] - 228s 6s/step - loss: 3.3718 - acc: 0.7937 - val_loss: 3.3714 - val_acc: 0.7937\n",
      "\n",
      "Epoch 00012: val_loss did not improve from 3.03288\n",
      "Epoch 13/100\n",
      "40/40 [==============================] - 244s 6s/step - loss: 3.3213 - acc: 0.7969 - val_loss: 3.3585 - val_acc: 0.7945\n",
      "\n",
      "Epoch 00013: val_loss did not improve from 3.03288\n",
      "Epoch 14/100\n",
      "40/40 [==============================] - 238s 6s/step - loss: 3.4021 - acc: 0.7918 - val_loss: 3.4951 - val_acc: 0.7860\n",
      "\n",
      "Epoch 00014: val_loss did not improve from 3.03288\n",
      "Epoch 15/100\n",
      "40/40 [==============================] - 232s 6s/step - loss: 3.3575 - acc: 0.7945 - val_loss: 2.9730 - val_acc: 0.8185\n",
      "\n",
      "Epoch 00015: val_loss improved from 3.03288 to 2.97303, saving model to another-cnn-weights.json\n",
      "Epoch 16/100\n",
      "40/40 [==============================] - 236s 6s/step - loss: 3.4070 - acc: 0.7914 - val_loss: 3.5489 - val_acc: 0.7825\n",
      "\n",
      "Epoch 00016: val_loss did not improve from 2.97303\n",
      "Epoch 17/100\n",
      "40/40 [==============================] - 258s 6s/step - loss: 3.1184 - acc: 0.8094 - val_loss: 3.3837 - val_acc: 0.7928\n",
      "\n",
      "Epoch 00017: val_loss did not improve from 2.97303\n",
      "Epoch 18/100\n",
      "40/40 [==============================] - 243s 6s/step - loss: 3.5311 - acc: 0.7836 - val_loss: 3.3831 - val_acc: 0.7928\n",
      "\n",
      "Epoch 00018: val_loss did not improve from 2.97303\n",
      "Epoch 19/100\n",
      "40/40 [==============================] - 227s 6s/step - loss: 3.2933 - acc: 0.7984 - val_loss: 3.3277 - val_acc: 0.7962\n",
      "\n",
      "Epoch 00019: val_loss did not improve from 2.97303\n",
      "Epoch 20/100\n",
      "40/40 [==============================] - 237s 6s/step - loss: 3.3735 - acc: 0.7934 - val_loss: 3.7389 - val_acc: 0.7705\n",
      "\n",
      "Epoch 00020: val_loss did not improve from 2.97303\n",
      "Epoch 21/100\n",
      "40/40 [==============================] - 234s 6s/step - loss: 3.4544 - acc: 0.7883 - val_loss: 2.8052 - val_acc: 0.8288\n",
      "\n",
      "Epoch 00021: val_loss improved from 2.97303 to 2.80515, saving model to another-cnn-weights.json\n",
      "Epoch 22/100\n",
      "40/40 [==============================] - 230s 6s/step - loss: 3.2479 - acc: 0.8011 - val_loss: 3.4909 - val_acc: 0.7860\n",
      "\n",
      "Epoch 00022: val_loss did not improve from 2.80515\n",
      "Epoch 23/100\n",
      "40/40 [==============================] - 242s 6s/step - loss: 3.2470 - acc: 0.8012 - val_loss: 3.3655 - val_acc: 0.7937\n",
      "\n",
      "Epoch 00023: val_loss did not improve from 2.80515\n",
      "Epoch 24/100\n",
      "40/40 [==============================] - 233s 6s/step - loss: 3.4523 - acc: 0.7883 - val_loss: 3.3252 - val_acc: 0.7962\n",
      "\n",
      "Epoch 00024: val_loss did not improve from 2.80515\n",
      "Epoch 25/100\n",
      "40/40 [==============================] - 240s 6s/step - loss: 3.2777 - acc: 0.7992 - val_loss: 3.3796 - val_acc: 0.7928\n",
      "\n",
      "Epoch 00025: val_loss did not improve from 2.80515\n",
      "Epoch 26/100\n",
      "40/40 [==============================] - 246s 6s/step - loss: 3.4397 - acc: 0.7890 - val_loss: 3.2419 - val_acc: 0.8014\n",
      "\n",
      "Epoch 00026: val_loss did not improve from 2.80515\n",
      "Epoch 27/100\n",
      "40/40 [==============================] - 228s 6s/step - loss: 3.3074 - acc: 0.7973 - val_loss: 3.5982 - val_acc: 0.7791\n",
      "\n",
      "Epoch 00027: val_loss did not improve from 2.80515\n",
      "Epoch 28/100\n",
      "40/40 [==============================] - 220s 6s/step - loss: 3.3327 - acc: 0.7957 - val_loss: 3.1311 - val_acc: 0.8082\n",
      "\n",
      "Epoch 00028: val_loss did not improve from 2.80515\n",
      "Epoch 29/100\n",
      "40/40 [==============================] - 240s 6s/step - loss: 3.3503 - acc: 0.7945 - val_loss: 3.5150 - val_acc: 0.7842\n",
      "\n",
      "Epoch 00029: val_loss did not improve from 2.80515\n",
      "Epoch 30/100\n",
      "40/40 [==============================] - 221s 6s/step - loss: 3.2997 - acc: 0.7977 - val_loss: 3.1028 - val_acc: 0.8099\n",
      "\n",
      "Epoch 00030: val_loss did not improve from 2.80515\n",
      "Epoch 31/100\n",
      "40/40 [==============================] - 226s 6s/step - loss: 3.3747 - acc: 0.7930 - val_loss: 3.4866 - val_acc: 0.7860\n",
      "\n",
      "Epoch 00031: val_loss did not improve from 2.80515\n",
      "Epoch 32/100\n",
      "40/40 [==============================] - 210s 5s/step - loss: 3.3608 - acc: 0.7938 - val_loss: 3.4312 - val_acc: 0.7894\n",
      "\n",
      "Epoch 00032: val_loss did not improve from 2.80515\n",
      "Epoch 33/100\n",
      "40/40 [==============================] - 205s 5s/step - loss: 3.2740 - acc: 0.7992 - val_loss: 3.2387 - val_acc: 0.8014\n",
      "\n",
      "Epoch 00033: val_loss did not improve from 2.80515\n",
      "Epoch 34/100\n",
      "40/40 [==============================] - 212s 5s/step - loss: 3.3042 - acc: 0.7973 - val_loss: 3.2602 - val_acc: 0.8000\n",
      "\n",
      "Epoch 00034: val_loss did not improve from 2.80515\n",
      "Epoch 35/100\n",
      "40/40 [==============================] - 210s 5s/step - loss: 3.5096 - acc: 0.7844 - val_loss: 3.4848 - val_acc: 0.7860\n",
      "\n",
      "Epoch 00035: val_loss did not improve from 2.80515\n",
      "Epoch 36/100\n",
      "40/40 [==============================] - 211s 5s/step - loss: 3.3412 - acc: 0.7949 - val_loss: 3.2648 - val_acc: 0.7997\n",
      "\n",
      "Epoch 00036: val_loss did not improve from 2.80515\n",
      "Epoch 37/100\n",
      "40/40 [==============================] - 8679s 217s/step - loss: 3.3030 - acc: 0.7973 - val_loss: 3.4839 - val_acc: 0.7860\n",
      "\n",
      "Epoch 00037: val_loss did not improve from 2.80515\n",
      "Epoch 38/100\n",
      "40/40 [==============================] - 213s 5s/step - loss: 3.3209 - acc: 0.7961 - val_loss: 3.2090 - val_acc: 0.8031\n",
      "\n",
      "Epoch 00038: val_loss did not improve from 2.80515\n",
      "Epoch 39/100\n",
      "40/40 [==============================] - 213s 5s/step - loss: 3.4208 - acc: 0.7899 - val_loss: 3.1812 - val_acc: 0.8048\n",
      "\n",
      "Epoch 00039: val_loss did not improve from 2.80515\n",
      "Epoch 40/100\n",
      "40/40 [==============================] - 212s 5s/step - loss: 3.3014 - acc: 0.7973 - val_loss: 3.3180 - val_acc: 0.7962\n",
      "\n",
      "Epoch 00040: val_loss did not improve from 2.80515\n",
      "Epoch 41/100\n",
      "40/40 [==============================] - 211s 5s/step - loss: 3.3326 - acc: 0.7953 - val_loss: 3.2901 - val_acc: 0.7979\n",
      "\n",
      "Epoch 00041: val_loss did not improve from 2.80515\n",
      "Epoch 42/100\n",
      "40/40 [==============================] - 216s 5s/step - loss: 3.4069 - acc: 0.7906 - val_loss: 3.3995 - val_acc: 0.7911\n",
      "\n",
      "Epoch 00042: val_loss did not improve from 2.80515\n",
      "Epoch 43/100\n",
      "40/40 [==============================] - 229s 6s/step - loss: 3.3192 - acc: 0.7961 - val_loss: 3.4540 - val_acc: 0.7877\n",
      "\n",
      "Epoch 00043: val_loss did not improve from 2.80515\n",
      "Epoch 44/100\n"
     ]
    },
    {
     "name": "stdout",
     "output_type": "stream",
     "text": [
      "40/40 [==============================] - 210s 5s/step - loss: 3.2499 - acc: 0.8004 - val_loss: 3.4261 - val_acc: 0.7894\n",
      "\n",
      "Epoch 00044: val_loss did not improve from 2.80515\n",
      "Epoch 45/100\n",
      "40/40 [==============================] - 224s 6s/step - loss: 3.3558 - acc: 0.7938 - val_loss: 3.3306 - val_acc: 0.7953\n",
      "\n",
      "Epoch 00045: val_loss did not improve from 2.80515\n",
      "Epoch 46/100\n",
      "40/40 [==============================] - 217s 5s/step - loss: 3.4245 - acc: 0.7894 - val_loss: 3.4802 - val_acc: 0.7860\n",
      "\n",
      "Epoch 00046: val_loss did not improve from 2.80515\n",
      "Epoch 47/100\n",
      "40/40 [==============================] - 226s 6s/step - loss: 3.3112 - acc: 0.7965 - val_loss: 3.1778 - val_acc: 0.8048\n",
      "\n",
      "Epoch 00047: val_loss did not improve from 2.80515\n",
      "Epoch 48/100\n",
      "40/40 [==============================] - 233s 6s/step - loss: 3.3673 - acc: 0.7930 - val_loss: 3.3970 - val_acc: 0.7911\n",
      "\n",
      "Epoch 00048: val_loss did not improve from 2.80515\n",
      "Epoch 49/100\n",
      "40/40 [==============================] - 224s 6s/step - loss: 3.2786 - acc: 0.7985 - val_loss: 3.5613 - val_acc: 0.7808\n",
      "\n",
      "Epoch 00049: val_loss did not improve from 2.80515\n",
      "Epoch 50/100\n",
      "40/40 [==============================] - 217s 5s/step - loss: 3.4473 - acc: 0.7879 - val_loss: 3.0394 - val_acc: 0.8134\n",
      "\n",
      "Epoch 00050: val_loss did not improve from 2.80515\n",
      "Epoch 51/100\n",
      "40/40 [==============================] - 222s 6s/step - loss: 3.3030 - acc: 0.7969 - val_loss: 3.1488 - val_acc: 0.8065\n",
      "\n",
      "Epoch 00051: val_loss did not improve from 2.80515\n",
      "Epoch 52/100\n",
      "40/40 [==============================] - 235s 6s/step - loss: 3.4033 - acc: 0.7906 - val_loss: 3.5601 - val_acc: 0.7808\n",
      "\n",
      "Epoch 00052: val_loss did not improve from 2.80515\n",
      "Epoch 53/100\n",
      "40/40 [==============================] - 211s 5s/step - loss: 3.2461 - acc: 0.8004 - val_loss: 3.3676 - val_acc: 0.7928\n",
      "\n",
      "Epoch 00053: val_loss did not improve from 2.80515\n",
      "Epoch 54/100\n",
      "40/40 [==============================] - 234s 6s/step - loss: 3.3335 - acc: 0.7949 - val_loss: 3.2299 - val_acc: 0.8014\n",
      "\n",
      "Epoch 00054: val_loss did not improve from 2.80515\n",
      "Epoch 55/100\n",
      "40/40 [==============================] - 216s 5s/step - loss: 3.4638 - acc: 0.7868 - val_loss: 3.4217 - val_acc: 0.7894\n",
      "\n",
      "Epoch 00055: val_loss did not improve from 2.80515\n",
      "Epoch 56/100\n",
      "40/40 [==============================] - 222s 6s/step - loss: 3.2764 - acc: 0.7984 - val_loss: 3.3513 - val_acc: 0.7937\n",
      "\n",
      "Epoch 00056: val_loss did not improve from 2.80515\n",
      "Epoch 57/100\n",
      "40/40 [==============================] - 219s 5s/step - loss: 3.3261 - acc: 0.7953 - val_loss: 3.1739 - val_acc: 0.8048\n",
      "\n",
      "Epoch 00057: val_loss did not improve from 2.80515\n",
      "Epoch 58/100\n",
      "23/40 [================>.............] - ETA: 1:29 - loss: 3.2136 - acc: 0.8023"
     ]
    }
   ],
   "source": [
    "hist = model.fit_generator(\n",
    "    train_generator,\n",
    "    epochs=Training_Epochs,\n",
    "    verbose=1,\n",
    "    steps_per_epoch=2592 // Batch_Size,\n",
    "    validation_data=validation_generator,\n",
    "    validation_steps= 648 // Batch_Size,\n",
    "    class_weight='auto',\n",
    "    shuffle=True,\n",
    "    callbacks=[checkpointer],\n",
    ")"
   ]
  },
  {
   "cell_type": "code",
   "execution_count": 45,
   "metadata": {},
   "outputs": [
    {
     "data": {
      "text/plain": [
       "[3.2909253320576233, 0.7947530864197531]"
      ]
     },
     "execution_count": 45,
     "metadata": {},
     "output_type": "execute_result"
    }
   ],
   "source": [
    "model.evaluate_generator(validation_generator)"
   ]
  },
  {
   "cell_type": "code",
   "execution_count": 46,
   "metadata": {},
   "outputs": [
    {
     "data": {
      "image/png": "[encoded data removed]",
      "text/plain": [
       "<Figure size 1080x360 with 2 Axes>"
      ]
     },
     "metadata": {
      "needs_background": "light"
     },
     "output_type": "display_data"
    }
   ],
   "source": [
    "results(hist)"
   ]
  },
  {
   "cell_type": "markdown",
   "metadata": {},
   "source": [
    "### Transfer learning"
   ]
  },
  {
   "cell_type": "code",
   "execution_count": 13,
   "metadata": {},
   "outputs": [
    {
     "name": "stdout",
     "output_type": "stream",
     "text": [
      "Inception V3 base model\n"
     ]
    }
   ],
   "source": [
    "# Load the inception v3 model and load it with it's pre-trained weights. but exclude\n",
    "# the final fully connected layer\n",
    "InceptionV3_base_model = InceptionV3(weights='imagenet', include_top=False)\n",
    "print('Inception V3 base model')"
   ]
  },
  {
   "cell_type": "code",
   "execution_count": 14,
   "metadata": {},
   "outputs": [
    {
     "ename": "NameError",
     "evalue": "name 'GlobalAveragePooling2D' is not defined",
     "output_type": "error",
     "traceback": [
      "\u001b[0;31m---------------------------------------------------------------------------\u001b[0m",
      "\u001b[0;31mNameError\u001b[0m                                 Traceback (most recent call last)",
      "\u001b[0;32m<ipython-input-14-ae3422a0236c>\u001b[0m in \u001b[0;36m<module>\u001b[0;34m\u001b[0m\n\u001b[1;32m      1\u001b[0m \u001b[0;31m# define the layers in the new classification prediction\u001b[0m\u001b[0;34m\u001b[0m\u001b[0;34m\u001b[0m\u001b[0m\n\u001b[1;32m      2\u001b[0m \u001b[0mx\u001b[0m \u001b[0;34m=\u001b[0m \u001b[0mInceptionV3_base_model\u001b[0m\u001b[0;34m.\u001b[0m\u001b[0moutput\u001b[0m\u001b[0;34m\u001b[0m\u001b[0m\n\u001b[0;32m----> 3\u001b[0;31m \u001b[0mx\u001b[0m \u001b[0;34m=\u001b[0m \u001b[0mGlobalAveragePooling2D\u001b[0m\u001b[0;34m(\u001b[0m\u001b[0;34m)\u001b[0m\u001b[0;34m(\u001b[0m\u001b[0mx\u001b[0m\u001b[0;34m)\u001b[0m\u001b[0;34m\u001b[0m\u001b[0m\n\u001b[0m\u001b[1;32m      4\u001b[0m \u001b[0mx\u001b[0m \u001b[0;34m=\u001b[0m \u001b[0mDense\u001b[0m\u001b[0;34m(\u001b[0m\u001b[0mNumber_FC_Neurons\u001b[0m\u001b[0;34m,\u001b[0m \u001b[0mactivation\u001b[0m\u001b[0;34m=\u001b[0m\u001b[0;34m'relu'\u001b[0m\u001b[0;34m)\u001b[0m\u001b[0;34m(\u001b[0m\u001b[0mx\u001b[0m\u001b[0;34m)\u001b[0m \u001b[0;31m# new fc layer , random init\u001b[0m\u001b[0;34m\u001b[0m\u001b[0m\n\u001b[1;32m      5\u001b[0m \u001b[0mpredictions\u001b[0m \u001b[0;34m=\u001b[0m \u001b[0mDense\u001b[0m\u001b[0;34m(\u001b[0m\u001b[0mnb_classes\u001b[0m\u001b[0;34m,\u001b[0m \u001b[0mactivation\u001b[0m\u001b[0;34m=\u001b[0m\u001b[0;34m'softmax'\u001b[0m\u001b[0;34m)\u001b[0m\u001b[0;34m(\u001b[0m\u001b[0mx\u001b[0m\u001b[0;34m)\u001b[0m \u001b[0;31m# new softmax layer\u001b[0m\u001b[0;34m\u001b[0m\u001b[0m\n",
      "\u001b[0;31mNameError\u001b[0m: name 'GlobalAveragePooling2D' is not defined"
     ]
    }
   ],
   "source": [
    "# define the layers in the new classification prediction\n",
    "x = InceptionV3_base_model.output\n",
    "x = GlobalAveragePooling2D()(x)\n",
    "x = Dense(Number_FC_Neurons, activation='relu')(x) # new fc layer , random init\n",
    "predictions = Dense(nb_classes, activation='softmax')(x) # new softmax layer"
   ]
  },
  {
   "cell_type": "code",
   "execution_count": null,
   "metadata": {},
   "outputs": [],
   "source": []
  }
 ],
 "metadata": {
  "kernelspec": {
   "display_name": "Python 3",
   "language": "python",
   "name": "python3"
  },
  "language_info": {
   "codemirror_mode": {
    "name": "ipython",
    "version": 3
   },
   "file_extension": ".py",
   "mimetype": "text/x-python",
   "name": "python",
   "nbconvert_exporter": "python",
   "pygments_lexer": "ipython3",
   "version": "3.6.6"
  }
 },
 "nbformat": 4,
 "nbformat_minor": 2
}
